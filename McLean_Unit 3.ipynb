{
 "cells": [
  {
   "cell_type": "markdown",
   "id": "20362a35-31fe-4375-aa7e-c066dc193850",
   "metadata": {
    "tags": []
   },
   "source": [
    "# ENGL105 - Ashlee McLean\n",
    "\n",
    "## Feeder 3.1 - Data Compilation"
   ]
  },
  {
   "cell_type": "markdown",
   "id": "bc7a0b82-2d1d-4074-b610-6bf8aff41854",
   "metadata": {},
   "source": [
    "### Setup"
   ]
  },
  {
   "cell_type": "markdown",
   "id": "903f2b4d-4552-41af-88e8-1e94b8fce2e6",
   "metadata": {},
   "source": [
    "First, you should import the packages you'll be using within Python.\n",
    "\n",
    "As you'll see below, you can load Pandas by typing \"import pandas\" while also adding the \"as pd\" statement.\n",
    "\n",
    "By doing this, you'll be able to call functions from pandas with pd.function instead of pandas.function for convenience purposes."
   ]
  },
  {
   "cell_type": "code",
   "execution_count": null,
   "id": "5c93f75f-bc82-438b-931d-4a8a85dcbb01",
   "metadata": {},
   "outputs": [],
   "source": [
    "import pandas as pd"
   ]
  },
  {
   "cell_type": "markdown",
   "id": "9a2f0318-7abd-4a5d-a124-9a03ec526851",
   "metadata": {},
   "source": [
    "Next, you want to create your dataframe object again, by using pandas to read in your .csv file.\n",
    "\n",
    "\"pd.read_csv\" reads the data from your csv file into a dataframe object that we'll define as df.\n",
    "\n",
    "To create your dataframe object, you'll need to define your object, df, by typing in \"df=pd.read_csv(\"NameOfYourDataset.csv\") like so:"
   ]
  },
  {
   "cell_type": "code",
   "execution_count": 15,
   "id": "2696b0fc-05c8-4b8a-b9a1-703442e5f177",
   "metadata": {},
   "outputs": [],
   "source": [
    "df=pd.read_csv(\"CountyHealthData_2014-2015.csv\")"
   ]
  },
  {
   "cell_type": "markdown",
   "id": "a69f0e01-5455-4a11-87a5-dbd3d5bcb2ad",
   "metadata": {},
   "source": [
    "### Filtering Data w/ Indexing"
   ]
  },
  {
   "cell_type": "markdown",
   "id": "8d7b2a52-a792-42c3-aeb1-cb3067c58e83",
   "metadata": {},
   "source": [
    "Now you're going to filter your dataset by using a method called indexing. Oftentimes, you'll want to select certain rows/columns from a large dataframe. This can be accomplished by indexing.\n",
    "\n",
    "In order to get back just the information wanted within certain columns, you're going to type \"df.loc[:,[\"ColumnName\", \"ColumnName\", ColumnName\"]]\"\n",
    "\n",
    "At the end of that command, you'll also add \".tail(n=# of desired rows)\" in order to only receive the last # of desired rows in your dataset like so:"
   ]
  },
  {
   "cell_type": "code",
   "execution_count": 100,
   "id": "a4bae974-2718-42eb-a050-871d30047111",
   "metadata": {},
   "outputs": [
    {
     "data": {
      "text/html": [
       "<div>\n",
       "<style scoped>\n",
       "    .dataframe tbody tr th:only-of-type {\n",
       "        vertical-align: middle;\n",
       "    }\n",
       "\n",
       "    .dataframe tbody tr th {\n",
       "        vertical-align: top;\n",
       "    }\n",
       "\n",
       "    .dataframe thead th {\n",
       "        text-align: right;\n",
       "    }\n",
       "</style>\n",
       "<table border=\"1\" class=\"dataframe\">\n",
       "  <thead>\n",
       "    <tr style=\"text-align: right;\">\n",
       "      <th></th>\n",
       "      <th>State</th>\n",
       "      <th>County</th>\n",
       "      <th>Premature death</th>\n",
       "    </tr>\n",
       "  </thead>\n",
       "  <tbody>\n",
       "    <tr>\n",
       "      <th>6104</th>\n",
       "      <td>WY</td>\n",
       "      <td>Uinta County</td>\n",
       "      <td>7436.0</td>\n",
       "    </tr>\n",
       "    <tr>\n",
       "      <th>6105</th>\n",
       "      <td>WY</td>\n",
       "      <td>Washakie County</td>\n",
       "      <td>6580.0</td>\n",
       "    </tr>\n",
       "    <tr>\n",
       "      <th>6106</th>\n",
       "      <td>WY</td>\n",
       "      <td>Washakie County</td>\n",
       "      <td>7572.0</td>\n",
       "    </tr>\n",
       "    <tr>\n",
       "      <th>6107</th>\n",
       "      <td>WY</td>\n",
       "      <td>Weston County</td>\n",
       "      <td>5633.0</td>\n",
       "    </tr>\n",
       "    <tr>\n",
       "      <th>6108</th>\n",
       "      <td>WY</td>\n",
       "      <td>Weston County</td>\n",
       "      <td>7819.0</td>\n",
       "    </tr>\n",
       "  </tbody>\n",
       "</table>\n",
       "</div>"
      ],
      "text/plain": [
       "     State           County  Premature death\n",
       "6104    WY     Uinta County           7436.0\n",
       "6105    WY  Washakie County           6580.0\n",
       "6106    WY  Washakie County           7572.0\n",
       "6107    WY    Weston County           5633.0\n",
       "6108    WY    Weston County           7819.0"
      ]
     },
     "execution_count": 100,
     "metadata": {},
     "output_type": "execute_result"
    }
   ],
   "source": [
    "df.loc[:,[\"State\",\"County\",\"Premature death\"]].tail(n=5)"
   ]
  },
  {
   "cell_type": "markdown",
   "id": "d84662d9-9892-4f32-b181-09560b96afa0",
   "metadata": {},
   "source": [
    "Now that you have a subset of data, you'll want to give this subset a name.\n",
    "\n",
    "On the left side of the equation, type the desired name for your new subset of data.\n",
    "\n",
    "On the right side of the equation, you'll need to copy the same command from the previous step, \"df.loc[:,[\"ColumnName\", \"ColumnName\", ColumnName\"]].tail(n=#)\" & add \".copy( )\" to the end to get something like this:\n",
    "\n",
    "\"DesiredNameForNewData = df.loc[:,[\"ColumnName\", \"ColumnName\", ColumnName\"]].tail(n=#).copy( )\""
   ]
  },
  {
   "cell_type": "code",
   "execution_count": 109,
   "id": "9ec4cd63-ec87-4dac-be21-0bf5de0a3caa",
   "metadata": {},
   "outputs": [],
   "source": [
    "PrematureData = df.loc[:,[\"State\",\"County\",\"Premature death\"]].tail(n=5).copy()"
   ]
  },
  {
   "cell_type": "markdown",
   "id": "70a68113-1471-4165-98a8-240e0e3fc168",
   "metadata": {},
   "source": [
    "### Exporting Your New Subset Data"
   ]
  },
  {
   "cell_type": "markdown",
   "id": "1707ffe1-1450-466e-a9bf-bfc96b19ddf6",
   "metadata": {},
   "source": [
    "Now, type in the name you gave to your new subset (whatever's on the left side of the equation) and press 'shift' + 'enter' on your keyboard to copy the dataset below like so:"
   ]
  },
  {
   "cell_type": "code",
   "execution_count": 108,
   "id": "a178d000-f6dc-4b21-b440-a41fca8a9803",
   "metadata": {},
   "outputs": [
    {
     "data": {
      "text/html": [
       "<div>\n",
       "<style scoped>\n",
       "    .dataframe tbody tr th:only-of-type {\n",
       "        vertical-align: middle;\n",
       "    }\n",
       "\n",
       "    .dataframe tbody tr th {\n",
       "        vertical-align: top;\n",
       "    }\n",
       "\n",
       "    .dataframe thead th {\n",
       "        text-align: right;\n",
       "    }\n",
       "</style>\n",
       "<table border=\"1\" class=\"dataframe\">\n",
       "  <thead>\n",
       "    <tr style=\"text-align: right;\">\n",
       "      <th></th>\n",
       "      <th>State</th>\n",
       "      <th>County</th>\n",
       "      <th>Premature death</th>\n",
       "    </tr>\n",
       "  </thead>\n",
       "  <tbody>\n",
       "    <tr>\n",
       "      <th>6104</th>\n",
       "      <td>WY</td>\n",
       "      <td>Uinta County</td>\n",
       "      <td>7436.0</td>\n",
       "    </tr>\n",
       "    <tr>\n",
       "      <th>6105</th>\n",
       "      <td>WY</td>\n",
       "      <td>Washakie County</td>\n",
       "      <td>6580.0</td>\n",
       "    </tr>\n",
       "    <tr>\n",
       "      <th>6106</th>\n",
       "      <td>WY</td>\n",
       "      <td>Washakie County</td>\n",
       "      <td>7572.0</td>\n",
       "    </tr>\n",
       "    <tr>\n",
       "      <th>6107</th>\n",
       "      <td>WY</td>\n",
       "      <td>Weston County</td>\n",
       "      <td>5633.0</td>\n",
       "    </tr>\n",
       "    <tr>\n",
       "      <th>6108</th>\n",
       "      <td>WY</td>\n",
       "      <td>Weston County</td>\n",
       "      <td>7819.0</td>\n",
       "    </tr>\n",
       "  </tbody>\n",
       "</table>\n",
       "</div>"
      ],
      "text/plain": [
       "     State           County  Premature death\n",
       "6104    WY     Uinta County           7436.0\n",
       "6105    WY  Washakie County           6580.0\n",
       "6106    WY  Washakie County           7572.0\n",
       "6107    WY    Weston County           5633.0\n",
       "6108    WY    Weston County           7819.0"
      ]
     },
     "execution_count": 108,
     "metadata": {},
     "output_type": "execute_result"
    }
   ],
   "source": [
    "PrematureData"
   ]
  },
  {
   "cell_type": "markdown",
   "id": "c63b26cd-ae9c-4b42-bff3-5d5811a93ede",
   "metadata": {},
   "source": [
    "Lastly, you'll want to make a completely different csv file with this subset data you just created in order to export it.\n",
    "\n",
    "To do this type in \"DesiredNameForNewData.to_csv(\"DesiredNameForNewData.csv\", index=False) and this should create a new .csv file name \"DesiredNameForNewData.csv in your folder containing the original dataset."
   ]
  },
  {
   "cell_type": "code",
   "execution_count": 106,
   "id": "5c2c891e-f62e-41ab-ae1d-b4f661448c5e",
   "metadata": {},
   "outputs": [],
   "source": [
    "PrematureData.to_csv(\"PrematureData.csv\", index=False)"
   ]
  }
 ],
 "metadata": {
  "kernelspec": {
   "display_name": "Python 3 (ipykernel)",
   "language": "python",
   "name": "python3"
  },
  "language_info": {
   "codemirror_mode": {
    "name": "ipython",
    "version": 3
   },
   "file_extension": ".py",
   "mimetype": "text/x-python",
   "name": "python",
   "nbconvert_exporter": "python",
   "pygments_lexer": "ipython3",
   "version": "3.9.13"
  }
 },
 "nbformat": 4,
 "nbformat_minor": 5
}
